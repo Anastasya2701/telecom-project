{
 "cells": [
  {
   "cell_type": "code",
   "execution_count": 5,
   "metadata": {},
   "outputs": [],
   "source": [
    "import pandas as pd\n",
    "import matplotlib.pyplot as plt\n",
    "import seaborn as sns"
   ]
  },
  {
   "cell_type": "code",
   "execution_count": 6,
   "metadata": {},
   "outputs": [
    {
     "name": "stdout",
     "output_type": "stream",
     "text": [
      "<class 'pandas.core.frame.DataFrame'>\n",
      "RangeIndex: 72274 entries, 0 to 72273\n",
      "Data columns (total 11 columns):\n",
      " #   Column                       Non-Null Count  Dtype  \n",
      "---  ------                       --------------  -----  \n",
      " 0   id                           72274 non-null  int64  \n",
      " 1   is_tv_subscriber             72274 non-null  int64  \n",
      " 2   is_movie_package_subscriber  72274 non-null  int64  \n",
      " 3   subscription_age             72274 non-null  float64\n",
      " 4   bill_avg                     72274 non-null  int64  \n",
      " 5   reamining_contract           50702 non-null  float64\n",
      " 6   service_failure_count        72274 non-null  int64  \n",
      " 7   download_avg                 71893 non-null  float64\n",
      " 8   upload_avg                   71893 non-null  float64\n",
      " 9   download_over_limit          72274 non-null  int64  \n",
      " 10  churn                        72274 non-null  int64  \n",
      "dtypes: float64(4), int64(7)\n",
      "memory usage: 6.1 MB\n",
      "None\n",
      "   id  is_tv_subscriber  is_movie_package_subscriber  subscription_age  \\\n",
      "0  15                 1                            0             11.95   \n",
      "1  18                 0                            0              8.22   \n",
      "2  23                 1                            0              8.91   \n",
      "3  27                 0                            0              6.87   \n",
      "4  34                 0                            0              6.39   \n",
      "\n",
      "   bill_avg  reamining_contract  service_failure_count  download_avg  \\\n",
      "0        25                0.14                      0           8.4   \n",
      "1         0                 NaN                      0           0.0   \n",
      "2        16                0.00                      0          13.7   \n",
      "3        21                 NaN                      1           0.0   \n",
      "4         0                 NaN                      0           0.0   \n",
      "\n",
      "   upload_avg  download_over_limit  churn  \n",
      "0         2.3                    0      0  \n",
      "1         0.0                    0      1  \n",
      "2         0.9                    0      1  \n",
      "3         0.0                    0      1  \n",
      "4         0.0                    0      1  \n"
     ]
    }
   ],
   "source": [
    "data = pd.read_csv('internet_service_churn.csv')\n",
    "print(data.info())\n",
    "print(data.head())"
   ]
  },
  {
   "cell_type": "code",
   "execution_count": 9,
   "metadata": {},
   "outputs": [
    {
     "name": "stdout",
     "output_type": "stream",
     "text": [
      "Summary:\n",
      "Numerical variables plotted:  ['id', 'is_tv_subscriber', 'is_movie_package_subscriber', 'subscription_age', 'bill_avg', 'reamining_contract', 'service_failure_count', 'download_avg', 'upload_avg', 'download_over_limit', 'churn']\n",
      "Categorical variables plotted:  []\n"
     ]
    }
   ],
   "source": [
    "numeric_columns = data.select_dtypes(include=['float64', 'int64']).columns\n",
    "categorical_columns = data.select_dtypes(include=['object', 'category']).columns\n",
    "\n",
    "print(\"Summary:\")\n",
    "print(\"Numerical variables plotted: \", list(numeric_columns))\n",
    "print(\"Categorical variables plotted: \", list(categorical_columns))"
   ]
  },
  {
   "cell_type": "markdown",
   "metadata": {},
   "source": [
    "Тобто усі дані числові"
   ]
  }
 ],
 "metadata": {
  "kernelspec": {
   "display_name": "base",
   "language": "python",
   "name": "python3"
  },
  "language_info": {
   "codemirror_mode": {
    "name": "ipython",
    "version": 3
   },
   "file_extension": ".py",
   "mimetype": "text/x-python",
   "name": "python",
   "nbconvert_exporter": "python",
   "pygments_lexer": "ipython3",
   "version": "3.12.4"
  }
 },
 "nbformat": 4,
 "nbformat_minor": 2
}
