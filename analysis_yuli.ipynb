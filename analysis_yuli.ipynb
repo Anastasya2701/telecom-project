{
 "cells": [
  {
   "cell_type": "markdown",
   "metadata": {},
   "source": [
    "📜 Деталі завдання:\n",
    "\n",
    "+ Завантажити набір даних (тут) у робоче середовище (Jupyter Notebook)\n",
    "\n",
    "Виконати первинний огляд структури даних: Перевірити розмірність (shape), типи стовпців (dtypes), приклади записів(head etc.)\n",
    "\n",
    "Перевірити відсутні значення: 1) Використати Pandas та/або Seaborn для визначення пропущених значень у стовпцях. 2) Побудувати візуалізацію (напр., heatmap або barplot), щоб показати обсяги відсутніх даних.\n",
    "\n",
    "Проаналізувати розподіл даних: 1) Побудувати гістограми для числових змінних, визначити нормальність розподілу. 2) Використати boxplot для пошуку викидів.\n",
    "\n",
    "Виявити кореляції: 1) Обчислити коефіцієнти кореляції між числовими змінними за допомогою Pandas. 2) Побудувати теплову карту кореляцій із використанням Seaborn.\n",
    "\n",
    "Документування результатів аналізу: Зібрати у Результат Аналізу (markdown в кінці вашого Notebook) всі ключові висновки: основні розподіли, пропуски, викиди, кореляції.\n",
    "\n",
    "Залити результат роботи на GitHub: Створити собі гілку на GitHub (якщо ще не створили) від master/main головного репозиторію проєкту тут, залити свій ноутбук і зробити Pull Request.\n",
    "\n",
    "📎📎 Примітка: Можете взяти за основу Модуль 5 та наше домашнє завдання."
   ]
  },
  {
   "cell_type": "markdown",
   "metadata": {},
   "source": [
    "# General Data Overview"
   ]
  },
  {
   "cell_type": "markdown",
   "metadata": {},
   "source": [
    "For the purpose of this project we will use a customer churn prediction dataset *internet_service_churn.csv*. Customer churn is the percentage of customers who stopped using a company's product or service during a specified time period. This is a vital metric because retaining existing customers is more cost-effective than acquiring new ones. Churn can occur due to various reasons, including unsatisfactory service, competing products, changing customer needs, and a lack of engagement. \n",
    "\n",
    "**The main goal of this project** is to help companies with investigating and analysing the existing data (through EDA) and creating effective predictive model(s) for further implementation targeted strategies to retain customers, enhance consumer satisfaction, and maintain sustainable growth.\n",
    "\n",
    "The provided dataset belongs to an unknown internet service provider and contains information from over 70,000 unique customers, including their internet usage, subscription age, number of service failures and additional services used.\n",
    "\n",
    "The dataset contains information about subscribers and their likelihood of churning based on various factors.\n",
    "\n",
    "**Meaning of the Columns names:**\n",
    "\n",
    "- `id`: Unique identifier for each customer.\n",
    "\n",
    "- `is_tv_subscriber`: Indicates if the customer has a TV subscription (1 = Yes, 0 = No).\n",
    "\n",
    "- `is_movie_package_subscriber`: Indicates if the customer has a movie package subscription (1 = Yes, 0 = No).\n",
    "\n",
    "- `subscription_age`: The age of the subscription in years.\n",
    "\n",
    "- `bill_avg`: Average monthly bill amount.\n",
    "\n",
    "- `remaining_contract`: Remaining contract duration in years.\n",
    "\n",
    "- `service_failure_count`: Number of service failures reported by the customer.\n",
    "\n",
    "- `download_avg`: Average download speed.\n",
    "\n",
    "- `upload_avg`: Average upload speed.\n",
    "\n",
    "- `download_over_limit`: Indicates if the customer has exceeded their download limit (1 = Yes, 0 = No).\n",
    "\n",
    "- `churn`: Indicates if the customer has churned (1 = Yes, 0 = No)."
   ]
  },
  {
   "cell_type": "markdown",
   "metadata": {},
   "source": [
    "# Imports"
   ]
  },
  {
   "cell_type": "code",
   "execution_count": 19,
   "metadata": {},
   "outputs": [],
   "source": [
    "import pandas as pd\n",
    "import numpy as np\n",
    "import seaborn as sns\n",
    "import matplotlib.pyplot as plt"
   ]
  },
  {
   "cell_type": "markdown",
   "metadata": {},
   "source": [
    "# Datasets Load + DataFrames build"
   ]
  },
  {
   "cell_type": "code",
   "execution_count": 20,
   "metadata": {},
   "outputs": [],
   "source": [
    "df = pd.read_csv(\"internet_service_churn.csv\")\n",
    "# df = data.copy()"
   ]
  },
  {
   "cell_type": "markdown",
   "metadata": {},
   "source": [
    "# Initial structure overview"
   ]
  },
  {
   "cell_type": "markdown",
   "metadata": {},
   "source": [
    "- **Step 1.** Cheking first 10 rows of the dataset:"
   ]
  },
  {
   "cell_type": "code",
   "execution_count": 21,
   "metadata": {},
   "outputs": [
    {
     "data": {
      "text/html": [
       "<div>\n",
       "<style scoped>\n",
       "    .dataframe tbody tr th:only-of-type {\n",
       "        vertical-align: middle;\n",
       "    }\n",
       "\n",
       "    .dataframe tbody tr th {\n",
       "        vertical-align: top;\n",
       "    }\n",
       "\n",
       "    .dataframe thead th {\n",
       "        text-align: right;\n",
       "    }\n",
       "</style>\n",
       "<table border=\"1\" class=\"dataframe\">\n",
       "  <thead>\n",
       "    <tr style=\"text-align: right;\">\n",
       "      <th></th>\n",
       "      <th>id</th>\n",
       "      <th>is_tv_subscriber</th>\n",
       "      <th>is_movie_package_subscriber</th>\n",
       "      <th>subscription_age</th>\n",
       "      <th>bill_avg</th>\n",
       "      <th>reamining_contract</th>\n",
       "      <th>service_failure_count</th>\n",
       "      <th>download_avg</th>\n",
       "      <th>upload_avg</th>\n",
       "      <th>download_over_limit</th>\n",
       "      <th>churn</th>\n",
       "    </tr>\n",
       "  </thead>\n",
       "  <tbody>\n",
       "    <tr>\n",
       "      <th>0</th>\n",
       "      <td>15</td>\n",
       "      <td>1</td>\n",
       "      <td>0</td>\n",
       "      <td>11.95</td>\n",
       "      <td>25</td>\n",
       "      <td>0.14</td>\n",
       "      <td>0</td>\n",
       "      <td>8.4</td>\n",
       "      <td>2.3</td>\n",
       "      <td>0</td>\n",
       "      <td>0</td>\n",
       "    </tr>\n",
       "    <tr>\n",
       "      <th>1</th>\n",
       "      <td>18</td>\n",
       "      <td>0</td>\n",
       "      <td>0</td>\n",
       "      <td>8.22</td>\n",
       "      <td>0</td>\n",
       "      <td>NaN</td>\n",
       "      <td>0</td>\n",
       "      <td>0.0</td>\n",
       "      <td>0.0</td>\n",
       "      <td>0</td>\n",
       "      <td>1</td>\n",
       "    </tr>\n",
       "    <tr>\n",
       "      <th>2</th>\n",
       "      <td>23</td>\n",
       "      <td>1</td>\n",
       "      <td>0</td>\n",
       "      <td>8.91</td>\n",
       "      <td>16</td>\n",
       "      <td>0.00</td>\n",
       "      <td>0</td>\n",
       "      <td>13.7</td>\n",
       "      <td>0.9</td>\n",
       "      <td>0</td>\n",
       "      <td>1</td>\n",
       "    </tr>\n",
       "    <tr>\n",
       "      <th>3</th>\n",
       "      <td>27</td>\n",
       "      <td>0</td>\n",
       "      <td>0</td>\n",
       "      <td>6.87</td>\n",
       "      <td>21</td>\n",
       "      <td>NaN</td>\n",
       "      <td>1</td>\n",
       "      <td>0.0</td>\n",
       "      <td>0.0</td>\n",
       "      <td>0</td>\n",
       "      <td>1</td>\n",
       "    </tr>\n",
       "    <tr>\n",
       "      <th>4</th>\n",
       "      <td>34</td>\n",
       "      <td>0</td>\n",
       "      <td>0</td>\n",
       "      <td>6.39</td>\n",
       "      <td>0</td>\n",
       "      <td>NaN</td>\n",
       "      <td>0</td>\n",
       "      <td>0.0</td>\n",
       "      <td>0.0</td>\n",
       "      <td>0</td>\n",
       "      <td>1</td>\n",
       "    </tr>\n",
       "    <tr>\n",
       "      <th>5</th>\n",
       "      <td>56</td>\n",
       "      <td>1</td>\n",
       "      <td>1</td>\n",
       "      <td>11.94</td>\n",
       "      <td>32</td>\n",
       "      <td>1.38</td>\n",
       "      <td>0</td>\n",
       "      <td>69.4</td>\n",
       "      <td>4.0</td>\n",
       "      <td>0</td>\n",
       "      <td>0</td>\n",
       "    </tr>\n",
       "    <tr>\n",
       "      <th>6</th>\n",
       "      <td>71</td>\n",
       "      <td>0</td>\n",
       "      <td>0</td>\n",
       "      <td>8.96</td>\n",
       "      <td>18</td>\n",
       "      <td>0.00</td>\n",
       "      <td>0</td>\n",
       "      <td>21.3</td>\n",
       "      <td>2.0</td>\n",
       "      <td>0</td>\n",
       "      <td>1</td>\n",
       "    </tr>\n",
       "    <tr>\n",
       "      <th>7</th>\n",
       "      <td>84</td>\n",
       "      <td>0</td>\n",
       "      <td>0</td>\n",
       "      <td>5.48</td>\n",
       "      <td>14</td>\n",
       "      <td>NaN</td>\n",
       "      <td>1</td>\n",
       "      <td>0.0</td>\n",
       "      <td>0.0</td>\n",
       "      <td>0</td>\n",
       "      <td>1</td>\n",
       "    </tr>\n",
       "    <tr>\n",
       "      <th>8</th>\n",
       "      <td>94</td>\n",
       "      <td>0</td>\n",
       "      <td>0</td>\n",
       "      <td>8.54</td>\n",
       "      <td>0</td>\n",
       "      <td>NaN</td>\n",
       "      <td>0</td>\n",
       "      <td>0.0</td>\n",
       "      <td>0.0</td>\n",
       "      <td>0</td>\n",
       "      <td>1</td>\n",
       "    </tr>\n",
       "    <tr>\n",
       "      <th>9</th>\n",
       "      <td>112</td>\n",
       "      <td>0</td>\n",
       "      <td>0</td>\n",
       "      <td>8.33</td>\n",
       "      <td>0</td>\n",
       "      <td>NaN</td>\n",
       "      <td>0</td>\n",
       "      <td>0.0</td>\n",
       "      <td>0.0</td>\n",
       "      <td>0</td>\n",
       "      <td>1</td>\n",
       "    </tr>\n",
       "  </tbody>\n",
       "</table>\n",
       "</div>"
      ],
      "text/plain": [
       "    id  is_tv_subscriber  is_movie_package_subscriber  subscription_age  \\\n",
       "0   15                 1                            0             11.95   \n",
       "1   18                 0                            0              8.22   \n",
       "2   23                 1                            0              8.91   \n",
       "3   27                 0                            0              6.87   \n",
       "4   34                 0                            0              6.39   \n",
       "5   56                 1                            1             11.94   \n",
       "6   71                 0                            0              8.96   \n",
       "7   84                 0                            0              5.48   \n",
       "8   94                 0                            0              8.54   \n",
       "9  112                 0                            0              8.33   \n",
       "\n",
       "   bill_avg  reamining_contract  service_failure_count  download_avg  \\\n",
       "0        25                0.14                      0           8.4   \n",
       "1         0                 NaN                      0           0.0   \n",
       "2        16                0.00                      0          13.7   \n",
       "3        21                 NaN                      1           0.0   \n",
       "4         0                 NaN                      0           0.0   \n",
       "5        32                1.38                      0          69.4   \n",
       "6        18                0.00                      0          21.3   \n",
       "7        14                 NaN                      1           0.0   \n",
       "8         0                 NaN                      0           0.0   \n",
       "9         0                 NaN                      0           0.0   \n",
       "\n",
       "   upload_avg  download_over_limit  churn  \n",
       "0         2.3                    0      0  \n",
       "1         0.0                    0      1  \n",
       "2         0.9                    0      1  \n",
       "3         0.0                    0      1  \n",
       "4         0.0                    0      1  \n",
       "5         4.0                    0      0  \n",
       "6         2.0                    0      1  \n",
       "7         0.0                    0      1  \n",
       "8         0.0                    0      1  \n",
       "9         0.0                    0      1  "
      ]
     },
     "execution_count": 21,
     "metadata": {},
     "output_type": "execute_result"
    }
   ],
   "source": [
    "df.head(10)"
   ]
  },
  {
   "cell_type": "markdown",
   "metadata": {},
   "source": [
    "- **Step 2.** Cheking dataset information:"
   ]
  },
  {
   "cell_type": "code",
   "execution_count": 22,
   "metadata": {},
   "outputs": [
    {
     "name": "stdout",
     "output_type": "stream",
     "text": [
      "<class 'pandas.core.frame.DataFrame'>\n",
      "RangeIndex: 72274 entries, 0 to 72273\n",
      "Data columns (total 11 columns):\n",
      " #   Column                       Non-Null Count  Dtype  \n",
      "---  ------                       --------------  -----  \n",
      " 0   id                           72274 non-null  int64  \n",
      " 1   is_tv_subscriber             72274 non-null  int64  \n",
      " 2   is_movie_package_subscriber  72274 non-null  int64  \n",
      " 3   subscription_age             72274 non-null  float64\n",
      " 4   bill_avg                     72274 non-null  int64  \n",
      " 5   reamining_contract           50702 non-null  float64\n",
      " 6   service_failure_count        72274 non-null  int64  \n",
      " 7   download_avg                 71893 non-null  float64\n",
      " 8   upload_avg                   71893 non-null  float64\n",
      " 9   download_over_limit          72274 non-null  int64  \n",
      " 10  churn                        72274 non-null  int64  \n",
      "dtypes: float64(4), int64(7)\n",
      "memory usage: 6.1 MB\n"
     ]
    }
   ],
   "source": [
    "df.info()"
   ]
  },
  {
   "cell_type": "code",
   "execution_count": 23,
   "metadata": {},
   "outputs": [
    {
     "data": {
      "text/html": [
       "<div>\n",
       "<style scoped>\n",
       "    .dataframe tbody tr th:only-of-type {\n",
       "        vertical-align: middle;\n",
       "    }\n",
       "\n",
       "    .dataframe tbody tr th {\n",
       "        vertical-align: top;\n",
       "    }\n",
       "\n",
       "    .dataframe thead th {\n",
       "        text-align: right;\n",
       "    }\n",
       "</style>\n",
       "<table border=\"1\" class=\"dataframe\">\n",
       "  <thead>\n",
       "    <tr style=\"text-align: right;\">\n",
       "      <th></th>\n",
       "      <th>id</th>\n",
       "      <th>is_tv_subscriber</th>\n",
       "      <th>is_movie_package_subscriber</th>\n",
       "      <th>subscription_age</th>\n",
       "      <th>bill_avg</th>\n",
       "      <th>reamining_contract</th>\n",
       "      <th>service_failure_count</th>\n",
       "      <th>download_avg</th>\n",
       "      <th>upload_avg</th>\n",
       "      <th>download_over_limit</th>\n",
       "      <th>churn</th>\n",
       "    </tr>\n",
       "  </thead>\n",
       "  <tbody>\n",
       "    <tr>\n",
       "      <th>count</th>\n",
       "      <td>7.227400e+04</td>\n",
       "      <td>72274.000000</td>\n",
       "      <td>72274.000000</td>\n",
       "      <td>72274.000000</td>\n",
       "      <td>72274.000000</td>\n",
       "      <td>50702.000000</td>\n",
       "      <td>72274.000000</td>\n",
       "      <td>71893.000000</td>\n",
       "      <td>71893.000000</td>\n",
       "      <td>72274.000000</td>\n",
       "      <td>72274.000000</td>\n",
       "    </tr>\n",
       "    <tr>\n",
       "      <th>mean</th>\n",
       "      <td>8.463182e+05</td>\n",
       "      <td>0.815259</td>\n",
       "      <td>0.334629</td>\n",
       "      <td>2.450051</td>\n",
       "      <td>18.942483</td>\n",
       "      <td>0.716039</td>\n",
       "      <td>0.274234</td>\n",
       "      <td>43.689911</td>\n",
       "      <td>4.192076</td>\n",
       "      <td>0.207613</td>\n",
       "      <td>0.554141</td>\n",
       "    </tr>\n",
       "    <tr>\n",
       "      <th>std</th>\n",
       "      <td>4.891022e+05</td>\n",
       "      <td>0.388090</td>\n",
       "      <td>0.471864</td>\n",
       "      <td>2.034990</td>\n",
       "      <td>13.215386</td>\n",
       "      <td>0.697102</td>\n",
       "      <td>0.816621</td>\n",
       "      <td>63.405963</td>\n",
       "      <td>9.818896</td>\n",
       "      <td>0.997123</td>\n",
       "      <td>0.497064</td>\n",
       "    </tr>\n",
       "    <tr>\n",
       "      <th>min</th>\n",
       "      <td>1.500000e+01</td>\n",
       "      <td>0.000000</td>\n",
       "      <td>0.000000</td>\n",
       "      <td>-0.020000</td>\n",
       "      <td>0.000000</td>\n",
       "      <td>0.000000</td>\n",
       "      <td>0.000000</td>\n",
       "      <td>0.000000</td>\n",
       "      <td>0.000000</td>\n",
       "      <td>0.000000</td>\n",
       "      <td>0.000000</td>\n",
       "    </tr>\n",
       "    <tr>\n",
       "      <th>25%</th>\n",
       "      <td>4.222165e+05</td>\n",
       "      <td>1.000000</td>\n",
       "      <td>0.000000</td>\n",
       "      <td>0.930000</td>\n",
       "      <td>13.000000</td>\n",
       "      <td>0.000000</td>\n",
       "      <td>0.000000</td>\n",
       "      <td>6.700000</td>\n",
       "      <td>0.500000</td>\n",
       "      <td>0.000000</td>\n",
       "      <td>0.000000</td>\n",
       "    </tr>\n",
       "    <tr>\n",
       "      <th>50%</th>\n",
       "      <td>8.477840e+05</td>\n",
       "      <td>1.000000</td>\n",
       "      <td>0.000000</td>\n",
       "      <td>1.980000</td>\n",
       "      <td>19.000000</td>\n",
       "      <td>0.570000</td>\n",
       "      <td>0.000000</td>\n",
       "      <td>27.800000</td>\n",
       "      <td>2.100000</td>\n",
       "      <td>0.000000</td>\n",
       "      <td>1.000000</td>\n",
       "    </tr>\n",
       "    <tr>\n",
       "      <th>75%</th>\n",
       "      <td>1.269562e+06</td>\n",
       "      <td>1.000000</td>\n",
       "      <td>1.000000</td>\n",
       "      <td>3.300000</td>\n",
       "      <td>22.000000</td>\n",
       "      <td>1.310000</td>\n",
       "      <td>0.000000</td>\n",
       "      <td>60.500000</td>\n",
       "      <td>4.800000</td>\n",
       "      <td>0.000000</td>\n",
       "      <td>1.000000</td>\n",
       "    </tr>\n",
       "    <tr>\n",
       "      <th>max</th>\n",
       "      <td>1.689744e+06</td>\n",
       "      <td>1.000000</td>\n",
       "      <td>1.000000</td>\n",
       "      <td>12.800000</td>\n",
       "      <td>406.000000</td>\n",
       "      <td>2.920000</td>\n",
       "      <td>19.000000</td>\n",
       "      <td>4415.200000</td>\n",
       "      <td>453.300000</td>\n",
       "      <td>7.000000</td>\n",
       "      <td>1.000000</td>\n",
       "    </tr>\n",
       "  </tbody>\n",
       "</table>\n",
       "</div>"
      ],
      "text/plain": [
       "                 id  is_tv_subscriber  is_movie_package_subscriber  \\\n",
       "count  7.227400e+04      72274.000000                 72274.000000   \n",
       "mean   8.463182e+05          0.815259                     0.334629   \n",
       "std    4.891022e+05          0.388090                     0.471864   \n",
       "min    1.500000e+01          0.000000                     0.000000   \n",
       "25%    4.222165e+05          1.000000                     0.000000   \n",
       "50%    8.477840e+05          1.000000                     0.000000   \n",
       "75%    1.269562e+06          1.000000                     1.000000   \n",
       "max    1.689744e+06          1.000000                     1.000000   \n",
       "\n",
       "       subscription_age      bill_avg  reamining_contract  \\\n",
       "count      72274.000000  72274.000000        50702.000000   \n",
       "mean           2.450051     18.942483            0.716039   \n",
       "std            2.034990     13.215386            0.697102   \n",
       "min           -0.020000      0.000000            0.000000   \n",
       "25%            0.930000     13.000000            0.000000   \n",
       "50%            1.980000     19.000000            0.570000   \n",
       "75%            3.300000     22.000000            1.310000   \n",
       "max           12.800000    406.000000            2.920000   \n",
       "\n",
       "       service_failure_count  download_avg    upload_avg  download_over_limit  \\\n",
       "count           72274.000000  71893.000000  71893.000000         72274.000000   \n",
       "mean                0.274234     43.689911      4.192076             0.207613   \n",
       "std                 0.816621     63.405963      9.818896             0.997123   \n",
       "min                 0.000000      0.000000      0.000000             0.000000   \n",
       "25%                 0.000000      6.700000      0.500000             0.000000   \n",
       "50%                 0.000000     27.800000      2.100000             0.000000   \n",
       "75%                 0.000000     60.500000      4.800000             0.000000   \n",
       "max                19.000000   4415.200000    453.300000             7.000000   \n",
       "\n",
       "              churn  \n",
       "count  72274.000000  \n",
       "mean       0.554141  \n",
       "std        0.497064  \n",
       "min        0.000000  \n",
       "25%        0.000000  \n",
       "50%        1.000000  \n",
       "75%        1.000000  \n",
       "max        1.000000  "
      ]
     },
     "execution_count": 23,
     "metadata": {},
     "output_type": "execute_result"
    }
   ],
   "source": [
    "df.describe()"
   ]
  },
  {
   "cell_type": "markdown",
   "metadata": {},
   "source": [
    "- **Step 3.** Cheking the shape of the dataset and the types of values:"
   ]
  },
  {
   "cell_type": "code",
   "execution_count": 24,
   "metadata": {},
   "outputs": [
    {
     "data": {
      "text/plain": [
       "(72274, 11)"
      ]
     },
     "execution_count": 24,
     "metadata": {},
     "output_type": "execute_result"
    }
   ],
   "source": [
    "df.shape"
   ]
  },
  {
   "cell_type": "code",
   "execution_count": 25,
   "metadata": {},
   "outputs": [
    {
     "data": {
      "text/plain": [
       "id                               int64\n",
       "is_tv_subscriber                 int64\n",
       "is_movie_package_subscriber      int64\n",
       "subscription_age               float64\n",
       "bill_avg                         int64\n",
       "reamining_contract             float64\n",
       "service_failure_count            int64\n",
       "download_avg                   float64\n",
       "upload_avg                     float64\n",
       "download_over_limit              int64\n",
       "churn                            int64\n",
       "dtype: object"
      ]
     },
     "execution_count": 25,
     "metadata": {},
     "output_type": "execute_result"
    }
   ],
   "source": [
    "df.dtypes"
   ]
  },
  {
   "cell_type": "markdown",
   "metadata": {},
   "source": [
    "# Data Visualization Methods"
   ]
  },
  {
   "cell_type": "code",
   "execution_count": 77,
   "metadata": {},
   "outputs": [],
   "source": [
    "def plot_missing_data_barplot(data):\n",
    "    plt.figure(figsize=(4, 5))\n",
    "    missing_counts = data.isnull().sum()\n",
    "    missing_counts = missing_counts[missing_counts > 0]\n",
    "    sns.barplot(x=missing_counts.index, y=missing_counts.values, width=0.3, hue=missing_counts.index, palette=\"hsv\")\n",
    "    plt.title(\"Missing Data by Column\")\n",
    "    plt.xlabel(\"Columns\")\n",
    "    plt.ylabel(\"Missing Values Count\")\n",
    "    plt.xticks(rotation=45)\n",
    "    plt.grid()\n",
    "    plt.show()\n",
    "\n",
    "\n",
    "# def plot_missing_data_heatmap(df):\n",
    "#     plt.figure(figsize=(10, 6))\n",
    "#     sns.heatmap(df.isnull(), cbar=False, cmap='viridis', yticklabels=False)\n",
    "#     plt.title('Missing Data Heatmap')\n",
    "#     plt.xlabel('Columns')\n",
    "#     plt.ylabel('Rows')\n",
    "#     plt.show()\n",
    "\n",
    "def plot_distribution(data, column, title):#, xlabel):\n",
    "    plt.figure(figsize=(8, 5))\n",
    "    sns.histplot(data[column], kde=True, bins=30, color=\"blue\")\n",
    "    plt.title(title)\n",
    "    # plt.xlabel(xlabel)\n",
    "    plt.ylabel(\"Frequency\")\n",
    "    plt.show()\n",
    "\n",
    "\n",
    "def plot_correlation_matrix(data):\n",
    "    plt.figure(figsize=(12, 8))\n",
    "    correlation = data.corr()\n",
    "    sns.heatmap(correlation, annot=True, cmap=\"coolwarm\", fmt=\".2f\")\n",
    "    plt.title(\"Correlation Matrix\")\n",
    "    plt.show()\n",
    "\n",
    "\n",
    "def check_outliers(data, columns):\n",
    "    for column in columns:\n",
    "        plt.figure(figsize=(8, 5))\n",
    "        sns.boxplot(data[column], color=\"orange\")\n",
    "        plt.title(f\"Outliers in {column}\")\n",
    "        plt.xlabel(column)\n",
    "        plt.show()"
   ]
  },
  {
   "cell_type": "markdown",
   "metadata": {},
   "source": [
    "# Exploratory Data Analysis (EDA)\n",
    "\n",
    "Within the framework of this project we conduct the detailed Exploratory Data Analysis, which will help with the data understanding, identifying patterns, and preparing the data for further stages of data preprocessing and modeling. \n",
    "\n",
    "Firstly it makes sense to check for the missing values and find possible dublicates. Next steps will be to check the data distribution and define the correlations among data if found."
   ]
  },
  {
   "cell_type": "markdown",
   "metadata": {},
   "source": [
    "## 1. Checking Data for missing values\n",
    "\n",
    "This step is crucial for our particular dataset for several reasons:\n",
    "- **Data Integrity and Accuracy**: Missing values could lead to incomplete data, which may not accurately represent the population or phenomena being analysed. As a result incomplete data could skew results and lead to incorrect conclusions. Not to mention that missing data can introduce bias if the missingness is not random. For example, if customers who churned are more likely to have missing values in certain fields, this could bias the analysis.\n",
    "\n",
    "- **Impact on Analysis and Modeling**: Many statistical methods and machine learning algorithms cannot handle missing values directly. Ignoring missing values could lead to errors or incorrect results. And for sure the missing values can degrade the performance of predictive models. For instance, if a significant portion of the `bill_avg` column is missing, any model relying on this feature will be less accurate.\n",
    " \n",
    "- And the last but not the least - **Understanding the Data**: Identifying missing values helps in understanding the patterns and reasons behind the missing data. This can provide insights into the data collection process or customer behavior. Moreover, missing values can indicate data quality issues, such as errors in data entry or collection. Addressing these issues improves the overall quality of the dataset."
   ]
  },
  {
   "cell_type": "markdown",
   "metadata": {},
   "source": [
    "- **Step 1.** Checking the whole dataset for missing values:"
   ]
  },
  {
   "cell_type": "code",
   "execution_count": 30,
   "metadata": {},
   "outputs": [
    {
     "data": {
      "text/plain": [
       "id                                 0\n",
       "is_tv_subscriber                   0\n",
       "is_movie_package_subscriber        0\n",
       "subscription_age                   0\n",
       "bill_avg                           0\n",
       "reamining_contract             21572\n",
       "service_failure_count              0\n",
       "download_avg                     381\n",
       "upload_avg                       381\n",
       "download_over_limit                0\n",
       "churn                              0\n",
       "dtype: int64"
      ]
     },
     "execution_count": 30,
     "metadata": {},
     "output_type": "execute_result"
    }
   ],
   "source": [
    "df.isnull().sum()"
   ]
  },
  {
   "cell_type": "markdown",
   "metadata": {},
   "source": [
    "It is clear that our dataset contains missing values in several columns, including bill_avg, remaining_contract, download_avg, and upload_avg. The reasons can vary from technical issues during data capture to customers not providing certain information. \n",
    "\n",
    "Let's visualize the amount of missing data in order to estimate the scope of the problem."
   ]
  },
  {
   "cell_type": "markdown",
   "metadata": {},
   "source": [
    "- **Step 2.** Visualizing the missing data volume with barplot: "
   ]
  },
  {
   "cell_type": "code",
   "execution_count": 69,
   "metadata": {},
   "outputs": [
    {
     "data": {
      "image/png": "[encoded data removed]",
      "text/plain": [
       "<Figure size 400x500 with 1 Axes>"
      ]
     },
     "metadata": {},
     "output_type": "display_data"
    }
   ],
   "source": [
    "plot_missing_data_barplot(df)"
   ]
  },
  {
   "cell_type": "markdown",
   "metadata": {},
   "source": [
    "- **Step 3.** Checking missing values rate:"
   ]
  },
  {
   "cell_type": "code",
   "execution_count": 65,
   "metadata": {},
   "outputs": [
    {
     "name": "stdout",
     "output_type": "stream",
     "text": [
      "reamining_contract = 0.298%\n",
      "download_avg = 0.005%\n",
      "upload_avg = 0.005%\n"
     ]
    }
   ],
   "source": [
    "for i, n in enumerate(df.isnull().sum()):\n",
    "    if n!=0:\n",
    "        print(f\"{df.columns[i]} = {round(n/len(df),3)}%\")"
   ]
  },
  {
   "cell_type": "markdown",
   "metadata": {},
   "source": [
    "As it is seen from the calculation results, the `reamining_contract` column has blank values of **21,572**, which is nearly 30%. This means that these customers never opted for contract. During the further data preprocessing the blank values could be filled with 0 or deleted depending on the goals."
   ]
  },
  {
   "cell_type": "markdown",
   "metadata": {},
   "source": [
    "## 2. Checking Data for possible dublicates\n",
    "\n",
    "In the context of this telecom churn dataset checking it for duplicates is important because:\n",
    "\n",
    "- **Data Consistency**: Obviously, duplicates could lead to inconsistent data, which can distort analyses and modeling results. For example, if a customer appears multiple times in the dataset, any analysis based on this data will be skewed. Duplicates could theoretically introduce errors in calculations and statistics. For instance, if a customer's bill average is counted multiple times, the overall average bill will be incorrect.\n",
    "\n",
    "- **Model Performance**: Duplicates could also introduce bias into our predictive models. If a customer is represented multiple times, the model might overfit to that customer's data, leading to poor generalization. And duplicates increase the size of the dataset without adding new information, which could slow down data processing and modeling.\n",
    "\n",
    "- **Data Understanding**: Identifying duplicates can help uncover issues in data collection or entry processes. For example, if a customer appears multiple times with different information, it might indicate errors in data recording. Furthermore, understanding why duplicates occur can provide insights into customer behavior or system errors that need to be addressed.\n",
    "\n",
    "- **Ethical and Practical Considerations**: Ensuring that each customer is represented only once is important for fair analysis and modeling. Duplicates can unfairly influence results, especially in churn prediction where the goal is to identify and retain at-risk customers. In some industries, ensuring data integrity and accuracy is a regulatory requirement, especially when dealing with customer data."
   ]
  },
  {
   "cell_type": "markdown",
   "metadata": {},
   "source": [
    "- **Step 1.** Checking the whole dataset for the dublicates:"
   ]
  },
  {
   "cell_type": "code",
   "execution_count": 71,
   "metadata": {},
   "outputs": [
    {
     "name": "stdout",
     "output_type": "stream",
     "text": [
      "Number of duplicate rows: 0\n"
     ]
    }
   ],
   "source": [
    "duplicates = df.duplicated()\n",
    "\n",
    "print(f\"Number of duplicate rows: {duplicates.sum()}\")\n",
    "\n",
    "if duplicates.sum() > 0:\n",
    "    print(\"\\nDuplicate rows:\")\n",
    "    print(df[duplicates])"
   ]
  },
  {
   "cell_type": "markdown",
   "metadata": {},
   "source": [
    "We are lucky to have zero dublicates in our dataset. Which means - we can skip the steps of addressing the dublicates issue in Data Preprocessing stage."
   ]
  },
  {
   "cell_type": "markdown",
   "metadata": {},
   "source": [
    "## 3. Data Distribution\n",
    "\n",
    "Data distribution is one of the most demonstrative tools in understanding the Data quality and integrity:\n",
    "\n",
    "- **Outliers**: data distribution can help in detecting anomalies or errors in the dataset. For example, an unusually high `bill_avg` or `download_avg` might indicate data entry errors or exceptional cases that need to be addressed.\n",
    "\n",
    "- **Model Performance**: First of all, knowing the distribution of features can guide the creation of new features or the transformation of existing ones. For example, if `bill_avg` is highly skewed, normalizing or standardizing it might improve model performance.\n",
    "\n",
    "- **Algorithm Selection**: Different machine learning algorithms perform better with different types of data distributions. For example, tree-based models like Random Forest can handle skewed data better than linear models, which assume normality.\n",
    "\n",
    "- **Customer Behavior**: Understanding the distribution of features like `subscription_age`, `bill_avg`, and `ervice_failure_count` can help in segmenting customers. This can provide insights into different customer groups and their behavior, which is crucial for targeted marketing and retention strategies.\n",
    "\n",
    "- **Churn Prediction**: The distribution of churn (`churn` column) can reveal patterns in customer behavior. For example, if churn is highly imbalanced (e.g., many more non-churners than churners), it might require special handling in the modeling phase, such as oversampling or undersampling techniques."
   ]
  },
  {
   "cell_type": "markdown",
   "metadata": {},
   "source": [
    "- **Step 1.** Checking the outliers:"
   ]
  },
  {
   "cell_type": "code",
   "execution_count": null,
   "metadata": {},
   "outputs": [],
   "source": [
    "def check_outliers(df, columns):\n",
    "    for column in columns:\n",
    "        plt.figure(figsize=(8, 5))\n",
    "        sns.boxplot(df[column], color='green')\n",
    "        plt.title(f\"Outliers in {column}\")\n",
    "        plt.xlabel(column)\n",
    "        plt.show()\n",
    "\n",
    "check_outliers(df, df.columns)"
   ]
  },
  {
   "cell_type": "code",
   "execution_count": null,
   "metadata": {},
   "outputs": [],
   "source": []
  },
  {
   "cell_type": "markdown",
   "metadata": {},
   "source": [
    "- **Step 1.** Checking the whole"
   ]
  },
  {
   "cell_type": "markdown",
   "metadata": {},
   "source": [
    "- **Step 1.** Checking the whole"
   ]
  },
  {
   "cell_type": "markdown",
   "metadata": {},
   "source": [
    "# Results"
   ]
  },
  {
   "cell_type": "markdown",
   "metadata": {},
   "source": [
    "# Recommendations for the further data preprocessing"
   ]
  },
  {
   "cell_type": "markdown",
   "metadata": {},
   "source": [
    "Handling Missing Values:\n",
    "\n",
    "For numerical columns (bill_avg, remaining_contract, download_avg, upload_avg), consider imputing with mean or median.\n",
    "\n",
    "For categorical columns (is_tv_subscriber, is_movie_package_subscriber), ensure consistency (e.g., missing values might be interpreted as 0)."
   ]
  },
  {
   "cell_type": "markdown",
   "metadata": {},
   "source": [
    "You can use a logistic regression model to solve the problem but remember to keep the business context in mind. For instance, retention surveys have shown that while price and product are important, most customers churn because of service failures and dissatisfaction with the customer care team."
   ]
  }
 ],
 "metadata": {
  "kernelspec": {
   "display_name": "Python 3",
   "language": "python",
   "name": "python3"
  },
  "language_info": {
   "codemirror_mode": {
    "name": "ipython",
    "version": 3
   },
   "file_extension": ".py",
   "mimetype": "text/x-python",
   "name": "python",
   "nbconvert_exporter": "python",
   "pygments_lexer": "ipython3",
   "version": "3.12.4"
  }
 },
 "nbformat": 4,
 "nbformat_minor": 2
}
